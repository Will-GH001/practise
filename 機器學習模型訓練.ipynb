{
  "nbformat": 4,
  "nbformat_minor": 0,
  "metadata": {
    "colab": {
      "provenance": [],
      "collapsed_sections": [],
      "include_colab_link": true
    },
    "kernelspec": {
      "name": "python3",
      "display_name": "Python 3"
    },
    "language_info": {
      "name": "python"
    }
  },
  "cells": [
    {
      "cell_type": "markdown",
      "metadata": {
        "id": "view-in-github",
        "colab_type": "text"
      },
      "source": [
        "<a href=\"https://colab.research.google.com/github/Will-GH001/practise/blob/main/%E6%A9%9F%E5%99%A8%E5%AD%B8%E7%BF%92%E6%A8%A1%E5%9E%8B%E8%A8%93%E7%B7%B4.ipynb\" target=\"_parent\"><img src=\"https://colab.research.google.com/assets/colab-badge.svg\" alt=\"Open In Colab\"/></a>"
      ]
    },
    {
      "cell_type": "code",
      "execution_count": null,
      "metadata": {
        "colab": {
          "base_uri": "https://localhost:8080/"
        },
        "id": "p3RL3tqX1pLz",
        "outputId": "217fc188-4936-44ee-9d9d-ddb6f038f695"
      },
      "outputs": [
        {
          "output_type": "stream",
          "name": "stdout",
          "text": [
            "Mounted at /content/drive\n"
          ]
        }
      ],
      "source": [
        "from google.colab import drive\n",
        "drive.mount('/content/drive')"
      ]
    },
    {
      "cell_type": "code",
      "source": [
        "#讀取檔案\n",
        "import pandas as pd\n",
        "#切割檔案\n",
        "from sklearn.model_selection import train_test_split\n",
        "#LogisticRegression\n",
        "from sklearn.linear_model import LogisticRegression\n",
        "#Roc\n",
        "from sklearn.metrics import roc_curve, auc,roc_auc_score\n",
        "from sklearn.metrics import classification_report\n",
        "#繪圖\n",
        "import matplotlib.pyplot as plt \n",
        "#numpy做存檔用\n",
        "import numpy as np\n",
        "#lightgbm\n",
        "import lightgbm as lgb\n",
        "#xgboost\n",
        "import xgboost as xgb\n",
        "from sklearn.ensemble import RandomForestClassifier\n",
        "from sklearn.tree import DecisionTreeClassifier\n",
        "import lightgbm as lgb\n",
        "from xgboost.sklearn import XGBClassifier"
      ],
      "metadata": {
        "id": "4XFxCvz11tLV"
      },
      "execution_count": null,
      "outputs": []
    },
    {
      "cell_type": "code",
      "source": [
        "df = pd.read_csv(r'/content/drive/MyDrive/Colab Notebooks/面試作品/機器學習作品/data.csv',encoding='Big5')\n",
        "df"
      ],
      "metadata": {
        "colab": {
          "base_uri": "https://localhost:8080/",
          "height": 488
        },
        "id": "YbCncASL1tjj",
        "outputId": "af1cf539-115c-4e7b-bf35-db9ee91515f1"
      },
      "execution_count": null,
      "outputs": [
        {
          "output_type": "execute_result",
          "data": {
            "text/plain": [
              "     age  sex  data1  data2  data3  data4  data5  data6  data7  data8  ...  \\\n",
              "0     64    1     19    0.0      2      3      2      5      1      2  ...   \n",
              "1     79    2     19   18.0      6     10      4     10      2      5  ...   \n",
              "2     73    2      7   23.0      7      9      7     12      2      6  ...   \n",
              "3     73    2     19   12.0      4      5      2      7      1      3  ...   \n",
              "4     59    2     24   14.0      4      5      3      6      1      3  ...   \n",
              "..   ...  ...    ...    ...    ...    ...    ...    ...    ...    ...  ...   \n",
              "497   78    1     19    6.0      2      2      0      6      0      1  ...   \n",
              "498   64    1     16    5.0      6      7      4      7      1      4  ...   \n",
              "499   65    1     19    3.0      3      2      2      7      0      1  ...   \n",
              "500   77    2     21    3.0      2      3      0      6      0      0  ...   \n",
              "501   77    2     19    6.0      1      2      0      6      0      1  ...   \n",
              "\n",
              "     data28  data29  data30  data31  data32  data33  data34  data35  data36  y  \n",
              "0         0       0       0       0       0       1      16       0       0  0  \n",
              "1         0       0       0       0       0       1       2       1       2  1  \n",
              "2         0       0       0       1       0       2       2       0       0  1  \n",
              "3         0       0       0       0       0       1      15       0       0  0  \n",
              "4         0       0       0       0       0       1      16       0       0  0  \n",
              "..      ...     ...     ...     ...     ...     ...     ...     ...     ... ..  \n",
              "497       0       0       0       0       0       1       8       0       0  0  \n",
              "498       0       0       0       0       0       1       9       0       0  0  \n",
              "499       0       0       0       0       0       1      17       0       0  0  \n",
              "500       0       1       0       0       0       1       8       0       0  0  \n",
              "501       0       1       0       0       0       1      28       0       0  0  \n",
              "\n",
              "[502 rows x 39 columns]"
            ],
            "text/html": [
              "\n",
              "  <div id=\"df-92ca403c-19f7-4dc0-ad70-a80bb2d82d6c\">\n",
              "    <div class=\"colab-df-container\">\n",
              "      <div>\n",
              "<style scoped>\n",
              "    .dataframe tbody tr th:only-of-type {\n",
              "        vertical-align: middle;\n",
              "    }\n",
              "\n",
              "    .dataframe tbody tr th {\n",
              "        vertical-align: top;\n",
              "    }\n",
              "\n",
              "    .dataframe thead th {\n",
              "        text-align: right;\n",
              "    }\n",
              "</style>\n",
              "<table border=\"1\" class=\"dataframe\">\n",
              "  <thead>\n",
              "    <tr style=\"text-align: right;\">\n",
              "      <th></th>\n",
              "      <th>age</th>\n",
              "      <th>sex</th>\n",
              "      <th>data1</th>\n",
              "      <th>data2</th>\n",
              "      <th>data3</th>\n",
              "      <th>data4</th>\n",
              "      <th>data5</th>\n",
              "      <th>data6</th>\n",
              "      <th>data7</th>\n",
              "      <th>data8</th>\n",
              "      <th>...</th>\n",
              "      <th>data28</th>\n",
              "      <th>data29</th>\n",
              "      <th>data30</th>\n",
              "      <th>data31</th>\n",
              "      <th>data32</th>\n",
              "      <th>data33</th>\n",
              "      <th>data34</th>\n",
              "      <th>data35</th>\n",
              "      <th>data36</th>\n",
              "      <th>y</th>\n",
              "    </tr>\n",
              "  </thead>\n",
              "  <tbody>\n",
              "    <tr>\n",
              "      <th>0</th>\n",
              "      <td>64</td>\n",
              "      <td>1</td>\n",
              "      <td>19</td>\n",
              "      <td>0.0</td>\n",
              "      <td>2</td>\n",
              "      <td>3</td>\n",
              "      <td>2</td>\n",
              "      <td>5</td>\n",
              "      <td>1</td>\n",
              "      <td>2</td>\n",
              "      <td>...</td>\n",
              "      <td>0</td>\n",
              "      <td>0</td>\n",
              "      <td>0</td>\n",
              "      <td>0</td>\n",
              "      <td>0</td>\n",
              "      <td>1</td>\n",
              "      <td>16</td>\n",
              "      <td>0</td>\n",
              "      <td>0</td>\n",
              "      <td>0</td>\n",
              "    </tr>\n",
              "    <tr>\n",
              "      <th>1</th>\n",
              "      <td>79</td>\n",
              "      <td>2</td>\n",
              "      <td>19</td>\n",
              "      <td>18.0</td>\n",
              "      <td>6</td>\n",
              "      <td>10</td>\n",
              "      <td>4</td>\n",
              "      <td>10</td>\n",
              "      <td>2</td>\n",
              "      <td>5</td>\n",
              "      <td>...</td>\n",
              "      <td>0</td>\n",
              "      <td>0</td>\n",
              "      <td>0</td>\n",
              "      <td>0</td>\n",
              "      <td>0</td>\n",
              "      <td>1</td>\n",
              "      <td>2</td>\n",
              "      <td>1</td>\n",
              "      <td>2</td>\n",
              "      <td>1</td>\n",
              "    </tr>\n",
              "    <tr>\n",
              "      <th>2</th>\n",
              "      <td>73</td>\n",
              "      <td>2</td>\n",
              "      <td>7</td>\n",
              "      <td>23.0</td>\n",
              "      <td>7</td>\n",
              "      <td>9</td>\n",
              "      <td>7</td>\n",
              "      <td>12</td>\n",
              "      <td>2</td>\n",
              "      <td>6</td>\n",
              "      <td>...</td>\n",
              "      <td>0</td>\n",
              "      <td>0</td>\n",
              "      <td>0</td>\n",
              "      <td>1</td>\n",
              "      <td>0</td>\n",
              "      <td>2</td>\n",
              "      <td>2</td>\n",
              "      <td>0</td>\n",
              "      <td>0</td>\n",
              "      <td>1</td>\n",
              "    </tr>\n",
              "    <tr>\n",
              "      <th>3</th>\n",
              "      <td>73</td>\n",
              "      <td>2</td>\n",
              "      <td>19</td>\n",
              "      <td>12.0</td>\n",
              "      <td>4</td>\n",
              "      <td>5</td>\n",
              "      <td>2</td>\n",
              "      <td>7</td>\n",
              "      <td>1</td>\n",
              "      <td>3</td>\n",
              "      <td>...</td>\n",
              "      <td>0</td>\n",
              "      <td>0</td>\n",
              "      <td>0</td>\n",
              "      <td>0</td>\n",
              "      <td>0</td>\n",
              "      <td>1</td>\n",
              "      <td>15</td>\n",
              "      <td>0</td>\n",
              "      <td>0</td>\n",
              "      <td>0</td>\n",
              "    </tr>\n",
              "    <tr>\n",
              "      <th>4</th>\n",
              "      <td>59</td>\n",
              "      <td>2</td>\n",
              "      <td>24</td>\n",
              "      <td>14.0</td>\n",
              "      <td>4</td>\n",
              "      <td>5</td>\n",
              "      <td>3</td>\n",
              "      <td>6</td>\n",
              "      <td>1</td>\n",
              "      <td>3</td>\n",
              "      <td>...</td>\n",
              "      <td>0</td>\n",
              "      <td>0</td>\n",
              "      <td>0</td>\n",
              "      <td>0</td>\n",
              "      <td>0</td>\n",
              "      <td>1</td>\n",
              "      <td>16</td>\n",
              "      <td>0</td>\n",
              "      <td>0</td>\n",
              "      <td>0</td>\n",
              "    </tr>\n",
              "    <tr>\n",
              "      <th>...</th>\n",
              "      <td>...</td>\n",
              "      <td>...</td>\n",
              "      <td>...</td>\n",
              "      <td>...</td>\n",
              "      <td>...</td>\n",
              "      <td>...</td>\n",
              "      <td>...</td>\n",
              "      <td>...</td>\n",
              "      <td>...</td>\n",
              "      <td>...</td>\n",
              "      <td>...</td>\n",
              "      <td>...</td>\n",
              "      <td>...</td>\n",
              "      <td>...</td>\n",
              "      <td>...</td>\n",
              "      <td>...</td>\n",
              "      <td>...</td>\n",
              "      <td>...</td>\n",
              "      <td>...</td>\n",
              "      <td>...</td>\n",
              "      <td>...</td>\n",
              "    </tr>\n",
              "    <tr>\n",
              "      <th>497</th>\n",
              "      <td>78</td>\n",
              "      <td>1</td>\n",
              "      <td>19</td>\n",
              "      <td>6.0</td>\n",
              "      <td>2</td>\n",
              "      <td>2</td>\n",
              "      <td>0</td>\n",
              "      <td>6</td>\n",
              "      <td>0</td>\n",
              "      <td>1</td>\n",
              "      <td>...</td>\n",
              "      <td>0</td>\n",
              "      <td>0</td>\n",
              "      <td>0</td>\n",
              "      <td>0</td>\n",
              "      <td>0</td>\n",
              "      <td>1</td>\n",
              "      <td>8</td>\n",
              "      <td>0</td>\n",
              "      <td>0</td>\n",
              "      <td>0</td>\n",
              "    </tr>\n",
              "    <tr>\n",
              "      <th>498</th>\n",
              "      <td>64</td>\n",
              "      <td>1</td>\n",
              "      <td>16</td>\n",
              "      <td>5.0</td>\n",
              "      <td>6</td>\n",
              "      <td>7</td>\n",
              "      <td>4</td>\n",
              "      <td>7</td>\n",
              "      <td>1</td>\n",
              "      <td>4</td>\n",
              "      <td>...</td>\n",
              "      <td>0</td>\n",
              "      <td>0</td>\n",
              "      <td>0</td>\n",
              "      <td>0</td>\n",
              "      <td>0</td>\n",
              "      <td>1</td>\n",
              "      <td>9</td>\n",
              "      <td>0</td>\n",
              "      <td>0</td>\n",
              "      <td>0</td>\n",
              "    </tr>\n",
              "    <tr>\n",
              "      <th>499</th>\n",
              "      <td>65</td>\n",
              "      <td>1</td>\n",
              "      <td>19</td>\n",
              "      <td>3.0</td>\n",
              "      <td>3</td>\n",
              "      <td>2</td>\n",
              "      <td>2</td>\n",
              "      <td>7</td>\n",
              "      <td>0</td>\n",
              "      <td>1</td>\n",
              "      <td>...</td>\n",
              "      <td>0</td>\n",
              "      <td>0</td>\n",
              "      <td>0</td>\n",
              "      <td>0</td>\n",
              "      <td>0</td>\n",
              "      <td>1</td>\n",
              "      <td>17</td>\n",
              "      <td>0</td>\n",
              "      <td>0</td>\n",
              "      <td>0</td>\n",
              "    </tr>\n",
              "    <tr>\n",
              "      <th>500</th>\n",
              "      <td>77</td>\n",
              "      <td>2</td>\n",
              "      <td>21</td>\n",
              "      <td>3.0</td>\n",
              "      <td>2</td>\n",
              "      <td>3</td>\n",
              "      <td>0</td>\n",
              "      <td>6</td>\n",
              "      <td>0</td>\n",
              "      <td>0</td>\n",
              "      <td>...</td>\n",
              "      <td>0</td>\n",
              "      <td>1</td>\n",
              "      <td>0</td>\n",
              "      <td>0</td>\n",
              "      <td>0</td>\n",
              "      <td>1</td>\n",
              "      <td>8</td>\n",
              "      <td>0</td>\n",
              "      <td>0</td>\n",
              "      <td>0</td>\n",
              "    </tr>\n",
              "    <tr>\n",
              "      <th>501</th>\n",
              "      <td>77</td>\n",
              "      <td>2</td>\n",
              "      <td>19</td>\n",
              "      <td>6.0</td>\n",
              "      <td>1</td>\n",
              "      <td>2</td>\n",
              "      <td>0</td>\n",
              "      <td>6</td>\n",
              "      <td>0</td>\n",
              "      <td>1</td>\n",
              "      <td>...</td>\n",
              "      <td>0</td>\n",
              "      <td>1</td>\n",
              "      <td>0</td>\n",
              "      <td>0</td>\n",
              "      <td>0</td>\n",
              "      <td>1</td>\n",
              "      <td>28</td>\n",
              "      <td>0</td>\n",
              "      <td>0</td>\n",
              "      <td>0</td>\n",
              "    </tr>\n",
              "  </tbody>\n",
              "</table>\n",
              "<p>502 rows × 39 columns</p>\n",
              "</div>\n",
              "      <button class=\"colab-df-convert\" onclick=\"convertToInteractive('df-92ca403c-19f7-4dc0-ad70-a80bb2d82d6c')\"\n",
              "              title=\"Convert this dataframe to an interactive table.\"\n",
              "              style=\"display:none;\">\n",
              "        \n",
              "  <svg xmlns=\"http://www.w3.org/2000/svg\" height=\"24px\"viewBox=\"0 0 24 24\"\n",
              "       width=\"24px\">\n",
              "    <path d=\"M0 0h24v24H0V0z\" fill=\"none\"/>\n",
              "    <path d=\"M18.56 5.44l.94 2.06.94-2.06 2.06-.94-2.06-.94-.94-2.06-.94 2.06-2.06.94zm-11 1L8.5 8.5l.94-2.06 2.06-.94-2.06-.94L8.5 2.5l-.94 2.06-2.06.94zm10 10l.94 2.06.94-2.06 2.06-.94-2.06-.94-.94-2.06-.94 2.06-2.06.94z\"/><path d=\"M17.41 7.96l-1.37-1.37c-.4-.4-.92-.59-1.43-.59-.52 0-1.04.2-1.43.59L10.3 9.45l-7.72 7.72c-.78.78-.78 2.05 0 2.83L4 21.41c.39.39.9.59 1.41.59.51 0 1.02-.2 1.41-.59l7.78-7.78 2.81-2.81c.8-.78.8-2.07 0-2.86zM5.41 20L4 18.59l7.72-7.72 1.47 1.35L5.41 20z\"/>\n",
              "  </svg>\n",
              "      </button>\n",
              "      \n",
              "  <style>\n",
              "    .colab-df-container {\n",
              "      display:flex;\n",
              "      flex-wrap:wrap;\n",
              "      gap: 12px;\n",
              "    }\n",
              "\n",
              "    .colab-df-convert {\n",
              "      background-color: #E8F0FE;\n",
              "      border: none;\n",
              "      border-radius: 50%;\n",
              "      cursor: pointer;\n",
              "      display: none;\n",
              "      fill: #1967D2;\n",
              "      height: 32px;\n",
              "      padding: 0 0 0 0;\n",
              "      width: 32px;\n",
              "    }\n",
              "\n",
              "    .colab-df-convert:hover {\n",
              "      background-color: #E2EBFA;\n",
              "      box-shadow: 0px 1px 2px rgba(60, 64, 67, 0.3), 0px 1px 3px 1px rgba(60, 64, 67, 0.15);\n",
              "      fill: #174EA6;\n",
              "    }\n",
              "\n",
              "    [theme=dark] .colab-df-convert {\n",
              "      background-color: #3B4455;\n",
              "      fill: #D2E3FC;\n",
              "    }\n",
              "\n",
              "    [theme=dark] .colab-df-convert:hover {\n",
              "      background-color: #434B5C;\n",
              "      box-shadow: 0px 1px 3px 1px rgba(0, 0, 0, 0.15);\n",
              "      filter: drop-shadow(0px 1px 2px rgba(0, 0, 0, 0.3));\n",
              "      fill: #FFFFFF;\n",
              "    }\n",
              "  </style>\n",
              "\n",
              "      <script>\n",
              "        const buttonEl =\n",
              "          document.querySelector('#df-92ca403c-19f7-4dc0-ad70-a80bb2d82d6c button.colab-df-convert');\n",
              "        buttonEl.style.display =\n",
              "          google.colab.kernel.accessAllowed ? 'block' : 'none';\n",
              "\n",
              "        async function convertToInteractive(key) {\n",
              "          const element = document.querySelector('#df-92ca403c-19f7-4dc0-ad70-a80bb2d82d6c');\n",
              "          const dataTable =\n",
              "            await google.colab.kernel.invokeFunction('convertToInteractive',\n",
              "                                                     [key], {});\n",
              "          if (!dataTable) return;\n",
              "\n",
              "          const docLinkHtml = 'Like what you see? Visit the ' +\n",
              "            '<a target=\"_blank\" href=https://colab.research.google.com/notebooks/data_table.ipynb>data table notebook</a>'\n",
              "            + ' to learn more about interactive tables.';\n",
              "          element.innerHTML = '';\n",
              "          dataTable['output_type'] = 'display_data';\n",
              "          await google.colab.output.renderOutput(dataTable, element);\n",
              "          const docLink = document.createElement('div');\n",
              "          docLink.innerHTML = docLinkHtml;\n",
              "          element.appendChild(docLink);\n",
              "        }\n",
              "      </script>\n",
              "    </div>\n",
              "  </div>\n",
              "  "
            ]
          },
          "metadata": {},
          "execution_count": 5
        }
      ]
    },
    {
      "cell_type": "markdown",
      "source": [
        "# 查看遺失值"
      ],
      "metadata": {
        "id": "pnR31Nxc2CJh"
      }
    },
    {
      "cell_type": "code",
      "source": [
        "mis_val_percent = 100 * df.isnull().sum() / len(df)"
      ],
      "metadata": {
        "id": "mEOByxvD2AJA"
      },
      "execution_count": null,
      "outputs": []
    },
    {
      "cell_type": "code",
      "source": [
        "lose_data = pd.DataFrame()\n",
        "lose_data_per = pd.DataFrame()\n",
        "lose_data[\"id\"] = df.columns\n",
        "lose_data_per[\"per\"] = list(mis_val_percent)\n",
        "lost_dat=pd.concat([lose_data, lose_data_per], axis=1)\n",
        "print(lost_dat)"
      ],
      "metadata": {
        "colab": {
          "base_uri": "https://localhost:8080/"
        },
        "id": "No5Jao3n2Ebb",
        "outputId": "8ff4e9cc-084d-4fd3-b7ea-71ff7064a8c1"
      },
      "execution_count": null,
      "outputs": [
        {
          "output_type": "stream",
          "name": "stdout",
          "text": [
            "        id       per\n",
            "0      age  0.000000\n",
            "1      sex  0.000000\n",
            "2    data1  0.000000\n",
            "3    data2  0.398406\n",
            "4    data3  0.000000\n",
            "5    data4  0.000000\n",
            "6    data5  0.000000\n",
            "7    data6  0.000000\n",
            "8    data7  0.000000\n",
            "9    data8  0.000000\n",
            "10   data9  0.000000\n",
            "11  data10  0.000000\n",
            "12  data11  0.000000\n",
            "13  data12  0.000000\n",
            "14  data13  0.000000\n",
            "15  data14  0.000000\n",
            "16  data15  0.000000\n",
            "17  data16  0.000000\n",
            "18  data17  0.000000\n",
            "19  data18  0.000000\n",
            "20  data19  0.000000\n",
            "21  data20  0.000000\n",
            "22  data21  0.000000\n",
            "23  data22  0.000000\n",
            "24  data23  0.000000\n",
            "25  data24  0.000000\n",
            "26  data25  0.000000\n",
            "27  data26  0.000000\n",
            "28  data27  0.000000\n",
            "29  data28  0.000000\n",
            "30  data29  0.000000\n",
            "31  data30  0.000000\n",
            "32  data31  0.000000\n",
            "33  data32  0.000000\n",
            "34  data33  0.000000\n",
            "35  data34  0.000000\n",
            "36  data35  0.000000\n",
            "37  data36  0.000000\n",
            "38       y  0.000000\n"
          ]
        }
      ]
    },
    {
      "cell_type": "code",
      "source": [
        "df['data2'] = df.data2.fillna(df.data2.median())"
      ],
      "metadata": {
        "id": "PfFbykQ32iAH"
      },
      "execution_count": null,
      "outputs": []
    },
    {
      "cell_type": "code",
      "source": [
        "count_classes = pd.value_counts(df['y'], sort=True).sort_index()\n",
        "count_classes.plot(kind='bar') \n",
        "print(count_classes)"
      ],
      "metadata": {
        "colab": {
          "base_uri": "https://localhost:8080/",
          "height": 314
        },
        "id": "P4TE7jTS2H5m",
        "outputId": "9694d0ce-2d69-4ed8-ffaf-021b7ba09d39"
      },
      "execution_count": null,
      "outputs": [
        {
          "output_type": "stream",
          "name": "stdout",
          "text": [
            "0    406\n",
            "1     96\n",
            "Name: y, dtype: int64\n"
          ]
        },
        {
          "output_type": "display_data",
          "data": {
            "text/plain": [
              "<Figure size 432x288 with 1 Axes>"
            ],
            "image/png": "[encoded data removed]"
          },
          "metadata": {
            "needs_background": "light"
          }
        }
      ]
    },
    {
      "cell_type": "code",
      "source": [
        "data1 = df.drop([\"y\"], axis=1) #剔除 y\n",
        "X = data1 \n",
        "y = df.y #選擇 y\n",
        "y.dtypes"
      ],
      "metadata": {
        "colab": {
          "base_uri": "https://localhost:8080/"
        },
        "id": "BrbSxj7Z2RAp",
        "outputId": "d4b75c22-54a8-43f9-acc4-cebeeefe922b"
      },
      "execution_count": null,
      "outputs": [
        {
          "output_type": "execute_result",
          "data": {
            "text/plain": [
              "dtype('int64')"
            ]
          },
          "metadata": {},
          "execution_count": 8
        }
      ]
    },
    {
      "cell_type": "code",
      "source": [
        "X_train, X_test, y_train, y_test = train_test_split(X, y, test_size=0.5, random_state=0)"
      ],
      "metadata": {
        "id": "0MKzT4Ii2YTN"
      },
      "execution_count": null,
      "outputs": []
    },
    {
      "cell_type": "markdown",
      "source": [
        "# 羅吉斯迴歸"
      ],
      "metadata": {
        "id": "-HS91pMu2bH_"
      }
    },
    {
      "cell_type": "code",
      "source": [
        "lg = LogisticRegression(C=0.01,solver = 'sag')\n",
        "lg.fit(X_train,y_train)\n",
        "y_score = lg.fit(X_train,y_train).decision_function(X_test)\n",
        "#print('在測試數據集上的預測準確率: {:.2f}'.format(lg.score(X_test, y_test)))\n",
        "print (\"\\n\\n ---邏輯回歸---\")\n",
        "lg_roc_auc = roc_auc_score(y_test,  lg.predict_proba(X_test)[:,1])\n",
        "print (\"羅吉斯迴歸 AUC = %2.2f\" % lg_roc_auc)\n",
        "print(classification_report(y_test, lg.predict(X_test)))"
      ],
      "metadata": {
        "colab": {
          "base_uri": "https://localhost:8080/"
        },
        "id": "nCZnDSG_2ctV",
        "outputId": "6a79cfc2-119f-477c-ba0c-a70859292ab5"
      },
      "execution_count": null,
      "outputs": [
        {
          "output_type": "stream",
          "name": "stdout",
          "text": [
            "\n",
            "\n",
            " ---邏輯回歸---\n",
            "羅吉斯迴歸 AUC = 0.83\n",
            "              precision    recall  f1-score   support\n",
            "\n",
            "           0       0.86      0.96      0.90       205\n",
            "           1       0.59      0.28      0.38        46\n",
            "\n",
            "    accuracy                           0.83       251\n",
            "   macro avg       0.72      0.62      0.64       251\n",
            "weighted avg       0.81      0.83      0.81       251\n",
            "\n"
          ]
        },
        {
          "output_type": "stream",
          "name": "stderr",
          "text": [
            "/usr/local/lib/python3.7/dist-packages/sklearn/linear_model/_sag.py:354: ConvergenceWarning: The max_iter was reached which means the coef_ did not converge\n",
            "  ConvergenceWarning,\n",
            "/usr/local/lib/python3.7/dist-packages/sklearn/linear_model/_sag.py:354: ConvergenceWarning: The max_iter was reached which means the coef_ did not converge\n",
            "  ConvergenceWarning,\n"
          ]
        }
      ]
    },
    {
      "cell_type": "code",
      "source": [
        "fprl_gnb, tprl_gnb, thresholdsl_gnb = roc_curve(y_test, lg.predict_proba(X_test)[:,1])\n",
        "plt.figure()\n",
        "plt.plot(fprl_gnb, tprl_gnb, color = 'yellow',label='Logistic Model  (area = %0.2f)' % lg_roc_auc)\n",
        "plt.plot([0, 1], [0, 1],'r--')\n",
        "plt.xlim([0.0, 1.0])\n",
        "plt.ylim([0.0, 1.05])\n",
        "plt.xlabel('False Positive Rate')\n",
        "plt.ylabel('True Positive Rate')\n",
        "plt.title('Testing Dataset')\n",
        "plt.legend(loc=\"lower right\")\n",
        "plt.show()"
      ],
      "metadata": {
        "colab": {
          "base_uri": "https://localhost:8080/",
          "height": 295
        },
        "id": "5uNdbo-92snk",
        "outputId": "a82d2189-19f8-4d3f-ee38-d0e902b166f4"
      },
      "execution_count": null,
      "outputs": [
        {
          "output_type": "display_data",
          "data": {
            "text/plain": [
              "<Figure size 432x288 with 1 Axes>"
            ],
            "image/png": "[encoded data removed]"
          },
          "metadata": {
            "needs_background": "light"
          }
        }
      ]
    },
    {
      "cell_type": "markdown",
      "source": [
        "# xgboost"
      ],
      "metadata": {
        "id": "ujwd379L2vGd"
      }
    },
    {
      "cell_type": "code",
      "source": [
        "xgb = XGBClassifier(\n",
        "    #深度\n",
        "    max_depth=3, \n",
        "    #疊帶次數\n",
        "    n_estimators=200,\n",
        "    #學習數率\n",
        "    learn_rate=0.01)\n",
        "xgb.fit(X_train,y_train)\n",
        "#print('在測試數據集上的預測準確率: {:.2f}'.format(xgb.score(X_test,y_test)))\n",
        "print (\"\\n\\n ---xgboost---\")\n",
        "xgb_roc_auc = roc_auc_score(y_test, xgb.predict_proba(X_test)[:,1])\n",
        "print (\"xgboost AUC = %2.2f\" % xgb_roc_auc)\n",
        "print(classification_report(y_test, xgb.predict(X_test)))"
      ],
      "metadata": {
        "colab": {
          "base_uri": "https://localhost:8080/"
        },
        "id": "0ZXMyo4X2txj",
        "outputId": "2c600364-0a2d-4a7f-b7b3-ccbf247b1420"
      },
      "execution_count": null,
      "outputs": [
        {
          "output_type": "stream",
          "name": "stdout",
          "text": [
            "\n",
            "\n",
            " ---xgboost---\n",
            "xgboost AUC = 0.86\n",
            "              precision    recall  f1-score   support\n",
            "\n",
            "           0       0.90      0.92      0.91       205\n",
            "           1       0.60      0.52      0.56        46\n",
            "\n",
            "    accuracy                           0.85       251\n",
            "   macro avg       0.75      0.72      0.73       251\n",
            "weighted avg       0.84      0.85      0.84       251\n",
            "\n"
          ]
        }
      ]
    },
    {
      "cell_type": "code",
      "source": [
        "fprl_gnb_xg, tprl_gnb_xg, thresholdsl_gnb_xg = roc_curve(y_test, xgb.predict_proba(X_test)[:,1])\n",
        "plt.figure()\n",
        "plt.plot(fprl_gnb_xg, tprl_gnb_xg, color = 'blue',label='xgboost Model  (%0.2f)' % xgb_roc_auc)\n",
        "plt.plot([0, 1], [0, 1],'r--')\n",
        "plt.xlim([0.0, 1.0])\n",
        "plt.ylim([0.0, 1.05])\n",
        "plt.xlabel('False Positive Rate')\n",
        "plt.ylabel('True Positive Rate')\n",
        "plt.title('Testing Dataset')\n",
        "plt.legend(loc=\"lower right\")\n",
        "plt.show()"
      ],
      "metadata": {
        "colab": {
          "base_uri": "https://localhost:8080/",
          "height": 295
        },
        "id": "yd9J3t_y2xJk",
        "outputId": "c8595ac4-bad4-45c2-a5af-56c2e21c6f1d"
      },
      "execution_count": null,
      "outputs": [
        {
          "output_type": "display_data",
          "data": {
            "text/plain": [
              "<Figure size 432x288 with 1 Axes>"
            ],
            "image/png": "[encoded data removed]"
          },
          "metadata": {
            "needs_background": "light"
          }
        }
      ]
    },
    {
      "cell_type": "markdown",
      "source": [
        "# 隨機森林"
      ],
      "metadata": {
        "id": "9kruDMIM20hI"
      }
    },
    {
      "cell_type": "code",
      "source": [
        "rf_clf = RandomForestClassifier(n_estimators=1000, random_state=42)\n",
        "rf_clf.fit(X_train, y_train)\n",
        "#print('在測試數據集上的預測準確率: {:.2f}'.format(rf_clf.score(X_test,y_test)))\n",
        "print (\"\\n\\n ---隨機森林---\")\n",
        "rf_clf_roc_auc = roc_auc_score(y_test, rf_clf.predict_proba(X_test)[:,1])\n",
        "print (\"隨機森林 AUC = %2.2f\" % rf_clf_roc_auc)\n",
        "print(classification_report(y_test, rf_clf.predict(X_test)))"
      ],
      "metadata": {
        "colab": {
          "base_uri": "https://localhost:8080/"
        },
        "id": "ZmWZLb6K2zLi",
        "outputId": "0cbd2761-0cb5-47f0-a1d5-69802abf5156"
      },
      "execution_count": null,
      "outputs": [
        {
          "output_type": "stream",
          "name": "stdout",
          "text": [
            "\n",
            "\n",
            " ---隨機森林---\n",
            "隨機森林 AUC = 0.87\n",
            "              precision    recall  f1-score   support\n",
            "\n",
            "           0       0.89      0.97      0.93       205\n",
            "           1       0.78      0.46      0.58        46\n",
            "\n",
            "    accuracy                           0.88       251\n",
            "   macro avg       0.83      0.71      0.75       251\n",
            "weighted avg       0.87      0.88      0.86       251\n",
            "\n"
          ]
        }
      ]
    },
    {
      "cell_type": "code",
      "source": [
        "fprl_gnb_rf, tprl_gnb_rf, thresholdsl_gnb_rf = roc_curve(y_test, rf_clf.predict_proba(X_test)[:,1])\n",
        "plt.figure()\n",
        "plt.plot(fprl_gnb_rf, tprl_gnb_rf, color = 'green',label='RandomForest Model  (%0.2f)' % rf_clf_roc_auc)\n",
        "plt.plot([0, 1], [0, 1],'r--')\n",
        "plt.xlim([0.0, 1.0])\n",
        "plt.ylim([0.0, 1.05])\n",
        "plt.xlabel('False Positive Rate')\n",
        "plt.ylabel('True Positive Rate')\n",
        "plt.title('Testing Dataset')\n",
        "plt.legend(loc=\"lower right\")\n",
        "plt.show()"
      ],
      "metadata": {
        "colab": {
          "base_uri": "https://localhost:8080/",
          "height": 295
        },
        "id": "uVIArJ5C24a3",
        "outputId": "3e3ebac8-2a4f-4614-a121-d3aaef621c84"
      },
      "execution_count": null,
      "outputs": [
        {
          "output_type": "display_data",
          "data": {
            "text/plain": [
              "<Figure size 432x288 with 1 Axes>"
            ],
            "image/png": "[encoded data removed]"
          },
          "metadata": {
            "needs_background": "light"
          }
        }
      ]
    },
    {
      "cell_type": "markdown",
      "source": [
        "# 決策樹"
      ],
      "metadata": {
        "id": "RAgQt54m28VN"
      }
    },
    {
      "cell_type": "code",
      "source": [
        "tree_clf = DecisionTreeClassifier(random_state=100)\n",
        "tree_clf.fit(X_train, y_train)\n",
        "print('在測試數據集上的預測準確率: {:.2f}'.format(tree_clf.score(X_test,y_test)))\n",
        "print (\"\\n\\n ---決策樹---\")\n",
        "tree_clf_roc_auc = roc_auc_score(y_test, tree_clf.predict_proba(X_test)[:,1])\n",
        "print (\"決策樹 AUC = %2.2f\" % tree_clf_roc_auc)\n",
        "print(classification_report(y_test, tree_clf.predict(X_test)))"
      ],
      "metadata": {
        "colab": {
          "base_uri": "https://localhost:8080/"
        },
        "id": "-e4W2wHv264-",
        "outputId": "8ce716a3-e03d-42ee-e165-d6e78203a553"
      },
      "execution_count": null,
      "outputs": [
        {
          "output_type": "stream",
          "name": "stdout",
          "text": [
            "在測試數據集上的預測準確率: 0.83\n",
            "\n",
            "\n",
            " ---決策樹---\n",
            "決策樹 AUC = 0.73\n",
            "              precision    recall  f1-score   support\n",
            "\n",
            "           0       0.90      0.89      0.89       205\n",
            "           1       0.53      0.57      0.55        46\n",
            "\n",
            "    accuracy                           0.83       251\n",
            "   macro avg       0.72      0.73      0.72       251\n",
            "weighted avg       0.83      0.83      0.83       251\n",
            "\n"
          ]
        }
      ]
    },
    {
      "cell_type": "code",
      "source": [
        "fprl_gnb_tree, tprl_gnb_tree, thresholdsl_gnb_tree = roc_curve(y_test, tree_clf.predict_proba(X_test)[:,1])\n",
        "plt.figure()\n",
        "plt.plot(fprl_gnb_tree, tprl_gnb_tree, color = 'purple',label='DecisionTree Model  (%0.2f)' % tree_clf_roc_auc)\n",
        "plt.plot([0, 1], [0, 1],'r--')\n",
        "plt.xlim([0.0, 1.0])\n",
        "plt.ylim([0.0, 1.05])\n",
        "plt.xlabel('False Positive Rate')\n",
        "plt.ylabel('True Positive Rate')\n",
        "plt.title('Testing Dataset')\n",
        "plt.legend(loc=\"lower right\")\n",
        "plt.show()"
      ],
      "metadata": {
        "colab": {
          "base_uri": "https://localhost:8080/",
          "height": 295
        },
        "id": "rix8-KRJ2_BZ",
        "outputId": "ef381b42-07ea-45c7-984f-db8d386c14fc"
      },
      "execution_count": null,
      "outputs": [
        {
          "output_type": "display_data",
          "data": {
            "text/plain": [
              "<Figure size 432x288 with 1 Axes>"
            ],
            "image/png": "[encoded data removed]"
          },
          "metadata": {
            "needs_background": "light"
          }
        }
      ]
    },
    {
      "cell_type": "markdown",
      "source": [
        "# lightgbm"
      ],
      "metadata": {
        "id": "Hn6Ew9jI3CV8"
      }
    },
    {
      "cell_type": "code",
      "source": [
        "gbm = lgb.LGBMClassifier(objective = 'binary',learning_rate = 0.05,n_estimators = 100,random_state=0)\n",
        "gbm.fit(X_train, y_train)\n",
        "print('在測試數據集上的預測準確率: {:.2f}'.format(gbm.score(X_test,y_test)))\n",
        "print (\"\\n\\n ---lightgbm---\")\n",
        "gbm_clf_roc_auc = roc_auc_score(y_test, gbm.predict_proba(X_test)[:,1])\n",
        "print (\"lightgbm AUC = %2.2f\" % gbm_clf_roc_auc)\n",
        "print(classification_report(y_test, gbm.predict(X_test)))"
      ],
      "metadata": {
        "colab": {
          "base_uri": "https://localhost:8080/"
        },
        "id": "aygCZa5o3BF0",
        "outputId": "9627b3b2-58c5-4b29-cfbf-1c07d2c2dbde"
      },
      "execution_count": null,
      "outputs": [
        {
          "output_type": "stream",
          "name": "stdout",
          "text": [
            "在測試數據集上的預測準確率: 0.86\n",
            "\n",
            "\n",
            " ---lightgbm---\n",
            "lightgbm AUC = 0.86\n",
            "              precision    recall  f1-score   support\n",
            "\n",
            "           0       0.90      0.94      0.92       205\n",
            "           1       0.67      0.52      0.59        46\n",
            "\n",
            "    accuracy                           0.86       251\n",
            "   macro avg       0.78      0.73      0.75       251\n",
            "weighted avg       0.86      0.86      0.86       251\n",
            "\n"
          ]
        }
      ]
    },
    {
      "cell_type": "code",
      "source": [
        "fprl_gnb_gbm, tprl_gnb_gbm, thresholdsl_gnb_gbm = roc_curve(y_test, gbm.predict_proba(X_test)[:,1])\n",
        "plt.figure()\n",
        "plt.plot(fprl_gnb_gbm, tprl_gnb_gbm, color = 'Gray',label='lightgbm Model  (%0.2f)' % gbm_clf_roc_auc)\n",
        "plt.plot([0, 1], [0, 1],'r--')\n",
        "plt.xlim([0.0, 1.0])\n",
        "plt.ylim([0.0, 1.05])\n",
        "plt.xlabel('False Positive Rate')\n",
        "plt.ylabel('True Positive Rate')\n",
        "plt.title('Testing Dataset')\n",
        "plt.legend(loc=\"lower right\")\n",
        "plt.show()"
      ],
      "metadata": {
        "id": "WgapD0Fh3HF9",
        "outputId": "2777b700-182b-460d-d5fd-10548e0f1a1b",
        "colab": {
          "base_uri": "https://localhost:8080/",
          "height": 295
        }
      },
      "execution_count": null,
      "outputs": [
        {
          "output_type": "display_data",
          "data": {
            "text/plain": [
              "<Figure size 432x288 with 1 Axes>"
            ],
            "image/png": "[encoded data removed]"
          },
          "metadata": {
            "needs_background": "light"
          }
        }
      ]
    },
    {
      "cell_type": "code",
      "source": [
        "fprl_gnb_lg, tprl_gnb_lg, thresholdsl_gnb_lg = roc_curve(y_test, lg.predict_proba(X_test)[:,1])\n",
        "fprl_gnb_xg, tprl_gnb_xg, thresholdsl_gnb_xg = roc_curve(y_test, xgb.predict_proba(X_test)[:,1])\n",
        "fprl_gnb_rf, tprl_gnb_rf, thresholdsl_gnb_rf = roc_curve(y_test, rf_clf.predict_proba(X_test)[:,1])\n",
        "fprl_gnb_tree, tprl_gnb_tree, thresholdsl_gnb_tree = roc_curve(y_test, tree_clf.predict_proba(X_test)[:,1])\n",
        "fprl_gnb_gbm, tprl_gnb_gbm, thresholdsl_gnb_gbm = roc_curve(y_test, gbm.predict_proba(X_test)[:,1])\n",
        "plt.figure()\n",
        "plt.plot(fprl_gnb_lg, tprl_gnb_lg, color = 'yellow',label='Logistic Model  (%0.2f)' % lg_roc_auc)\n",
        "plt.plot(fprl_gnb_xg, tprl_gnb_xg, color = 'blue',label='xgboost Model  (%0.2f)' % xgb_roc_auc)\n",
        "plt.plot(fprl_gnb_rf, tprl_gnb_rf, color = 'green',label='RandomForest Model  (%0.2f)' % rf_clf_roc_auc)\n",
        "plt.plot(fprl_gnb_tree, tprl_gnb_tree, color = 'purple',label='DecisionTree Model  (%0.2f)' % tree_clf_roc_auc)\n",
        "plt.plot(fprl_gnb_gbm, tprl_gnb_gbm, color = 'Gray',label='lightgbm Model  (%0.2f)' % gbm_clf_roc_auc)\n",
        "plt.plot([0, 1], [0, 1],'r--')\n",
        "plt.xlim([0.0, 1.0])\n",
        "plt.ylim([0.0, 1.05])\n",
        "plt.xlabel('False Positive Rate')\n",
        "plt.ylabel('True Positive Rate')\n",
        "plt.title('Testing Dataset')\n",
        "plt.legend(loc=\"lower right\")\n",
        "plt.show()"
      ],
      "metadata": {
        "id": "xus5EC5R3I_Y",
        "outputId": "6a9687df-aa45-4165-8672-286f55dbd3a8",
        "colab": {
          "base_uri": "https://localhost:8080/",
          "height": 295
        }
      },
      "execution_count": null,
      "outputs": [
        {
          "output_type": "display_data",
          "data": {
            "text/plain": [
              "<Figure size 432x288 with 1 Axes>"
            ],
            "image/png": "[encoded data removed]"
          },
          "metadata": {
            "needs_background": "light"
          }
        }
      ]
    }
  ]
}